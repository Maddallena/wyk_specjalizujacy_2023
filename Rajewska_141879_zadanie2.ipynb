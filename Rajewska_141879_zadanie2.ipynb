{
 "cells": [
  {
   "cell_type": "code",
   "execution_count": 1,
   "id": "e3b7808d",
   "metadata": {},
   "outputs": [],
   "source": [
    "import pandas as pd"
   ]
  },
  {
   "cell_type": "code",
   "execution_count": 2,
   "id": "fefb6420",
   "metadata": {},
   "outputs": [],
   "source": [
    "# Wczytuję dane do ramki danych, ale pomijam 4 pierwsze wiersze z pliku csv, \n",
    "# ponieważ interesują nas tylko poniższe informacje.\n",
    "data_nyc = pd.read_csv(\"data.csv\", skiprows=range(0,4) )"
   ]
  },
  {
   "cell_type": "code",
   "execution_count": 3,
   "id": "b9317a5b",
   "metadata": {},
   "outputs": [
    {
     "data": {
      "text/html": [
       "<div>\n",
       "<style scoped>\n",
       "    .dataframe tbody tr th:only-of-type {\n",
       "        vertical-align: middle;\n",
       "    }\n",
       "\n",
       "    .dataframe tbody tr th {\n",
       "        vertical-align: top;\n",
       "    }\n",
       "\n",
       "    .dataframe thead th {\n",
       "        text-align: right;\n",
       "    }\n",
       "</style>\n",
       "<table border=\"1\" class=\"dataframe\">\n",
       "  <thead>\n",
       "    <tr style=\"text-align: right;\">\n",
       "      <th></th>\n",
       "      <th>Date</th>\n",
       "      <th>Value</th>\n",
       "      <th>Anomaly</th>\n",
       "    </tr>\n",
       "  </thead>\n",
       "  <tbody>\n",
       "    <tr>\n",
       "      <th>0</th>\n",
       "      <td>195301</td>\n",
       "      <td>36.9</td>\n",
       "      <td>3.2</td>\n",
       "    </tr>\n",
       "    <tr>\n",
       "      <th>1</th>\n",
       "      <td>195401</td>\n",
       "      <td>29.9</td>\n",
       "      <td>-3.8</td>\n",
       "    </tr>\n",
       "    <tr>\n",
       "      <th>2</th>\n",
       "      <td>195501</td>\n",
       "      <td>30.0</td>\n",
       "      <td>-3.7</td>\n",
       "    </tr>\n",
       "    <tr>\n",
       "      <th>3</th>\n",
       "      <td>195601</td>\n",
       "      <td>31.3</td>\n",
       "      <td>-2.4</td>\n",
       "    </tr>\n",
       "    <tr>\n",
       "      <th>4</th>\n",
       "      <td>195701</td>\n",
       "      <td>27.8</td>\n",
       "      <td>-5.9</td>\n",
       "    </tr>\n",
       "    <tr>\n",
       "      <th>...</th>\n",
       "      <td>...</td>\n",
       "      <td>...</td>\n",
       "      <td>...</td>\n",
       "    </tr>\n",
       "    <tr>\n",
       "      <th>61</th>\n",
       "      <td>201401</td>\n",
       "      <td>28.7</td>\n",
       "      <td>-5.0</td>\n",
       "    </tr>\n",
       "    <tr>\n",
       "      <th>62</th>\n",
       "      <td>201501</td>\n",
       "      <td>30.0</td>\n",
       "      <td>-3.7</td>\n",
       "    </tr>\n",
       "    <tr>\n",
       "      <th>63</th>\n",
       "      <td>201601</td>\n",
       "      <td>34.5</td>\n",
       "      <td>0.8</td>\n",
       "    </tr>\n",
       "    <tr>\n",
       "      <th>64</th>\n",
       "      <td>201701</td>\n",
       "      <td>38.1</td>\n",
       "      <td>4.4</td>\n",
       "    </tr>\n",
       "    <tr>\n",
       "      <th>65</th>\n",
       "      <td>201801</td>\n",
       "      <td>31.8</td>\n",
       "      <td>-1.9</td>\n",
       "    </tr>\n",
       "  </tbody>\n",
       "</table>\n",
       "<p>66 rows × 3 columns</p>\n",
       "</div>"
      ],
      "text/plain": [
       "      Date  Value  Anomaly\n",
       "0   195301   36.9      3.2\n",
       "1   195401   29.9     -3.8\n",
       "2   195501   30.0     -3.7\n",
       "3   195601   31.3     -2.4\n",
       "4   195701   27.8     -5.9\n",
       "..     ...    ...      ...\n",
       "61  201401   28.7     -5.0\n",
       "62  201501   30.0     -3.7\n",
       "63  201601   34.5      0.8\n",
       "64  201701   38.1      4.4\n",
       "65  201801   31.8     -1.9\n",
       "\n",
       "[66 rows x 3 columns]"
      ]
     },
     "execution_count": 3,
     "metadata": {},
     "output_type": "execute_result"
    }
   ],
   "source": [
    "data_nyc"
   ]
  },
  {
   "cell_type": "code",
   "execution_count": 4,
   "id": "3e1cf662",
   "metadata": {},
   "outputs": [],
   "source": [
    "# Zmiana nazw kolumn na ich polskie odpowiedniki\n",
    "data_nyc.columns = ['Data', 'Temperatura', 'Odchylka']"
   ]
  },
  {
   "cell_type": "code",
   "execution_count": 5,
   "id": "2921ccc4",
   "metadata": {},
   "outputs": [
    {
     "data": {
      "text/html": [
       "<div>\n",
       "<style scoped>\n",
       "    .dataframe tbody tr th:only-of-type {\n",
       "        vertical-align: middle;\n",
       "    }\n",
       "\n",
       "    .dataframe tbody tr th {\n",
       "        vertical-align: top;\n",
       "    }\n",
       "\n",
       "    .dataframe thead th {\n",
       "        text-align: right;\n",
       "    }\n",
       "</style>\n",
       "<table border=\"1\" class=\"dataframe\">\n",
       "  <thead>\n",
       "    <tr style=\"text-align: right;\">\n",
       "      <th></th>\n",
       "      <th>Data</th>\n",
       "      <th>Temperatura</th>\n",
       "      <th>Odchylka</th>\n",
       "    </tr>\n",
       "  </thead>\n",
       "  <tbody>\n",
       "    <tr>\n",
       "      <th>count</th>\n",
       "      <td>66.000000</td>\n",
       "      <td>66.000000</td>\n",
       "      <td>66.000000</td>\n",
       "    </tr>\n",
       "    <tr>\n",
       "      <th>mean</th>\n",
       "      <td>198551.000000</td>\n",
       "      <td>31.895455</td>\n",
       "      <td>-1.806061</td>\n",
       "    </tr>\n",
       "    <tr>\n",
       "      <th>std</th>\n",
       "      <td>1919.635382</td>\n",
       "      <td>4.433524</td>\n",
       "      <td>4.433643</td>\n",
       "    </tr>\n",
       "    <tr>\n",
       "      <th>min</th>\n",
       "      <td>195301.000000</td>\n",
       "      <td>21.600000</td>\n",
       "      <td>-12.100000</td>\n",
       "    </tr>\n",
       "    <tr>\n",
       "      <th>25%</th>\n",
       "      <td>196926.000000</td>\n",
       "      <td>28.825000</td>\n",
       "      <td>-4.875000</td>\n",
       "    </tr>\n",
       "    <tr>\n",
       "      <th>50%</th>\n",
       "      <td>198551.000000</td>\n",
       "      <td>31.600000</td>\n",
       "      <td>-2.100000</td>\n",
       "    </tr>\n",
       "    <tr>\n",
       "      <th>75%</th>\n",
       "      <td>200176.000000</td>\n",
       "      <td>34.850000</td>\n",
       "      <td>1.150000</td>\n",
       "    </tr>\n",
       "    <tr>\n",
       "      <th>max</th>\n",
       "      <td>201801.000000</td>\n",
       "      <td>41.100000</td>\n",
       "      <td>7.400000</td>\n",
       "    </tr>\n",
       "  </tbody>\n",
       "</table>\n",
       "</div>"
      ],
      "text/plain": [
       "                Data  Temperatura   Odchylka\n",
       "count      66.000000    66.000000  66.000000\n",
       "mean   198551.000000    31.895455  -1.806061\n",
       "std      1919.635382     4.433524   4.433643\n",
       "min    195301.000000    21.600000 -12.100000\n",
       "25%    196926.000000    28.825000  -4.875000\n",
       "50%    198551.000000    31.600000  -2.100000\n",
       "75%    200176.000000    34.850000   1.150000\n",
       "max    201801.000000    41.100000   7.400000"
      ]
     },
     "execution_count": 5,
     "metadata": {},
     "output_type": "execute_result"
    }
   ],
   "source": [
    "data_nyc.describe()"
   ]
  },
  {
   "cell_type": "code",
   "execution_count": 6,
   "id": "c6aa423b",
   "metadata": {},
   "outputs": [],
   "source": [
    "# Zmiana wartości danych w kolumnach Temperatura i Odchylka związana ze zmianą stopni z Fahrenheit na stopnie Celsjusza.\n",
    "# Wykorzystując podane w pliku wyrażenie lambda, po kolei wszystkie wartości z odpowiedniej kolumny podlegają \n",
    "# zamianie według podanego niżej działania. \n",
    "\n",
    "data_nyc['Temperatura'] = data_nyc.Temperatura.apply(lambda f: round(5/9 * (f-32), 2))\n",
    "data_nyc['Odchylka'] = data_nyc.Odchylka.apply(lambda f: round(5/9 * (f-32), 2))"
   ]
  },
  {
   "cell_type": "code",
   "execution_count": 7,
   "id": "40979277",
   "metadata": {},
   "outputs": [
    {
     "data": {
      "text/html": [
       "<div>\n",
       "<style scoped>\n",
       "    .dataframe tbody tr th:only-of-type {\n",
       "        vertical-align: middle;\n",
       "    }\n",
       "\n",
       "    .dataframe tbody tr th {\n",
       "        vertical-align: top;\n",
       "    }\n",
       "\n",
       "    .dataframe thead th {\n",
       "        text-align: right;\n",
       "    }\n",
       "</style>\n",
       "<table border=\"1\" class=\"dataframe\">\n",
       "  <thead>\n",
       "    <tr style=\"text-align: right;\">\n",
       "      <th></th>\n",
       "      <th>Data</th>\n",
       "      <th>Temperatura</th>\n",
       "      <th>Odchylka</th>\n",
       "    </tr>\n",
       "  </thead>\n",
       "  <tbody>\n",
       "    <tr>\n",
       "      <th>0</th>\n",
       "      <td>195301</td>\n",
       "      <td>2.72</td>\n",
       "      <td>-16.00</td>\n",
       "    </tr>\n",
       "    <tr>\n",
       "      <th>1</th>\n",
       "      <td>195401</td>\n",
       "      <td>-1.17</td>\n",
       "      <td>-19.89</td>\n",
       "    </tr>\n",
       "    <tr>\n",
       "      <th>2</th>\n",
       "      <td>195501</td>\n",
       "      <td>-1.11</td>\n",
       "      <td>-19.83</td>\n",
       "    </tr>\n",
       "    <tr>\n",
       "      <th>3</th>\n",
       "      <td>195601</td>\n",
       "      <td>-0.39</td>\n",
       "      <td>-19.11</td>\n",
       "    </tr>\n",
       "    <tr>\n",
       "      <th>4</th>\n",
       "      <td>195701</td>\n",
       "      <td>-2.33</td>\n",
       "      <td>-21.06</td>\n",
       "    </tr>\n",
       "    <tr>\n",
       "      <th>...</th>\n",
       "      <td>...</td>\n",
       "      <td>...</td>\n",
       "      <td>...</td>\n",
       "    </tr>\n",
       "    <tr>\n",
       "      <th>61</th>\n",
       "      <td>201401</td>\n",
       "      <td>-1.83</td>\n",
       "      <td>-20.56</td>\n",
       "    </tr>\n",
       "    <tr>\n",
       "      <th>62</th>\n",
       "      <td>201501</td>\n",
       "      <td>-1.11</td>\n",
       "      <td>-19.83</td>\n",
       "    </tr>\n",
       "    <tr>\n",
       "      <th>63</th>\n",
       "      <td>201601</td>\n",
       "      <td>1.39</td>\n",
       "      <td>-17.33</td>\n",
       "    </tr>\n",
       "    <tr>\n",
       "      <th>64</th>\n",
       "      <td>201701</td>\n",
       "      <td>3.39</td>\n",
       "      <td>-15.33</td>\n",
       "    </tr>\n",
       "    <tr>\n",
       "      <th>65</th>\n",
       "      <td>201801</td>\n",
       "      <td>-0.11</td>\n",
       "      <td>-18.83</td>\n",
       "    </tr>\n",
       "  </tbody>\n",
       "</table>\n",
       "<p>66 rows × 3 columns</p>\n",
       "</div>"
      ],
      "text/plain": [
       "      Data  Temperatura  Odchylka\n",
       "0   195301         2.72    -16.00\n",
       "1   195401        -1.17    -19.89\n",
       "2   195501        -1.11    -19.83\n",
       "3   195601        -0.39    -19.11\n",
       "4   195701        -2.33    -21.06\n",
       "..     ...          ...       ...\n",
       "61  201401        -1.83    -20.56\n",
       "62  201501        -1.11    -19.83\n",
       "63  201601         1.39    -17.33\n",
       "64  201701         3.39    -15.33\n",
       "65  201801        -0.11    -18.83\n",
       "\n",
       "[66 rows x 3 columns]"
      ]
     },
     "execution_count": 7,
     "metadata": {},
     "output_type": "execute_result"
    }
   ],
   "source": [
    "# W celu sprawdzenia, czy zmiana dokonała się prawidłowo, ponownie wywołuję ramkę danych. \n",
    "# Jak widać poniżej zmiana przeszła pomyślnie, więc można przejść do dalszych obliczeń.\n",
    "\n",
    "data_nyc"
   ]
  },
  {
   "cell_type": "code",
   "execution_count": 8,
   "id": "acebfb8b",
   "metadata": {},
   "outputs": [
    {
     "data": {
      "text/html": [
       "<div>\n",
       "<style scoped>\n",
       "    .dataframe tbody tr th:only-of-type {\n",
       "        vertical-align: middle;\n",
       "    }\n",
       "\n",
       "    .dataframe tbody tr th {\n",
       "        vertical-align: top;\n",
       "    }\n",
       "\n",
       "    .dataframe thead th {\n",
       "        text-align: right;\n",
       "    }\n",
       "</style>\n",
       "<table border=\"1\" class=\"dataframe\">\n",
       "  <thead>\n",
       "    <tr style=\"text-align: right;\">\n",
       "      <th></th>\n",
       "      <th>Data</th>\n",
       "      <th>Temperatura</th>\n",
       "      <th>Odchylka</th>\n",
       "    </tr>\n",
       "  </thead>\n",
       "  <tbody>\n",
       "    <tr>\n",
       "      <th>count</th>\n",
       "      <td>66.000000</td>\n",
       "      <td>66.000000</td>\n",
       "      <td>66.000000</td>\n",
       "    </tr>\n",
       "    <tr>\n",
       "      <th>mean</th>\n",
       "      <td>198551.000000</td>\n",
       "      <td>-0.057273</td>\n",
       "      <td>-18.780758</td>\n",
       "    </tr>\n",
       "    <tr>\n",
       "      <th>std</th>\n",
       "      <td>1919.635382</td>\n",
       "      <td>2.463417</td>\n",
       "      <td>2.463479</td>\n",
       "    </tr>\n",
       "    <tr>\n",
       "      <th>min</th>\n",
       "      <td>195301.000000</td>\n",
       "      <td>-5.780000</td>\n",
       "      <td>-24.500000</td>\n",
       "    </tr>\n",
       "    <tr>\n",
       "      <th>25%</th>\n",
       "      <td>196926.000000</td>\n",
       "      <td>-1.765000</td>\n",
       "      <td>-20.485000</td>\n",
       "    </tr>\n",
       "    <tr>\n",
       "      <th>50%</th>\n",
       "      <td>198551.000000</td>\n",
       "      <td>-0.220000</td>\n",
       "      <td>-18.940000</td>\n",
       "    </tr>\n",
       "    <tr>\n",
       "      <th>75%</th>\n",
       "      <td>200176.000000</td>\n",
       "      <td>1.582500</td>\n",
       "      <td>-17.137500</td>\n",
       "    </tr>\n",
       "    <tr>\n",
       "      <th>max</th>\n",
       "      <td>201801.000000</td>\n",
       "      <td>5.060000</td>\n",
       "      <td>-13.670000</td>\n",
       "    </tr>\n",
       "  </tbody>\n",
       "</table>\n",
       "</div>"
      ],
      "text/plain": [
       "                Data  Temperatura   Odchylka\n",
       "count      66.000000    66.000000  66.000000\n",
       "mean   198551.000000    -0.057273 -18.780758\n",
       "std      1919.635382     2.463417   2.463479\n",
       "min    195301.000000    -5.780000 -24.500000\n",
       "25%    196926.000000    -1.765000 -20.485000\n",
       "50%    198551.000000    -0.220000 -18.940000\n",
       "75%    200176.000000     1.582500 -17.137500\n",
       "max    201801.000000     5.060000 -13.670000"
      ]
     },
     "execution_count": 8,
     "metadata": {},
     "output_type": "execute_result"
    }
   ],
   "source": [
    "data_nyc.describe()"
   ]
  },
  {
   "cell_type": "code",
   "execution_count": 9,
   "id": "d0f87919",
   "metadata": {},
   "outputs": [],
   "source": [
    "from scipy import stats"
   ]
  },
  {
   "cell_type": "code",
   "execution_count": 10,
   "id": "8b96b9e9",
   "metadata": {},
   "outputs": [],
   "source": [
    "# Do zmiennej niezależnej x przypisuję wartości Daty- styczeń każdego roku zaczynając od 1953 do 2018 roku.\n",
    "# Do zmiennej zależnej y przypisuję wartości z kolumny Temperatura. \n",
    "\n",
    "x = data_nyc.Data\n",
    "y = data_nyc.Temperatura"
   ]
  },
  {
   "cell_type": "code",
   "execution_count": 11,
   "id": "d46b4307",
   "metadata": {},
   "outputs": [],
   "source": [
    "# Obliczam regresję liniową \n",
    "linear_regression = stats.linregress(x, y)"
   ]
  },
  {
   "cell_type": "code",
   "execution_count": 12,
   "id": "9dd8bd17",
   "metadata": {},
   "outputs": [
    {
     "data": {
      "text/plain": [
       "0.00036585742615593354"
      ]
     },
     "execution_count": 12,
     "metadata": {},
     "output_type": "execute_result"
    }
   ],
   "source": [
    "# nachylenie linii regresji\n",
    "linear_regression.slope"
   ]
  },
  {
   "cell_type": "code",
   "execution_count": 13,
   "id": "c8af529e",
   "metadata": {},
   "outputs": [
    {
     "data": {
      "text/plain": [
       "-72.6986305479595"
      ]
     },
     "execution_count": 13,
     "metadata": {},
     "output_type": "execute_result"
    }
   ],
   "source": [
    "# przesunięcie linii regresji \n",
    "linear_regression.intercept"
   ]
  },
  {
   "cell_type": "code",
   "execution_count": 14,
   "id": "044ed630",
   "metadata": {},
   "outputs": [
    {
     "data": {
      "text/plain": [
       "1.278106878196425"
      ]
     },
     "execution_count": 14,
     "metadata": {},
     "output_type": "execute_result"
    }
   ],
   "source": [
    "# oblicznenie prognozowanej średniej temperatury styczniowej w mieście New York na 2022 rok\n",
    "linear_regression.slope * 202201 + linear_regression.intercept"
   ]
  },
  {
   "cell_type": "code",
   "execution_count": 17,
   "id": "c4beda6d",
   "metadata": {},
   "outputs": [
    {
     "data": {
      "text/plain": [
       "0.00015375197684655892"
      ]
     },
     "execution_count": 17,
     "metadata": {},
     "output_type": "execute_result"
    }
   ],
   "source": [
    "# Standard error\n",
    "linear_regression.stderr"
   ]
  },
  {
   "cell_type": "code",
   "execution_count": 15,
   "id": "77bdae41",
   "metadata": {},
   "outputs": [],
   "source": [
    "import matplotlib.pyplot as plt"
   ]
  },
  {
   "cell_type": "code",
   "execution_count": 16,
   "id": "1d20ce25",
   "metadata": {},
   "outputs": [
    {
     "data": {
      "image/png": "[encoded data removed]",
      "text/plain": [
       "<Figure size 432x288 with 1 Axes>"
      ]
     },
     "metadata": {
      "needs_background": "light"
     },
     "output_type": "display_data"
    }
   ],
   "source": [
    "# wykres pokazujący regresję liniową\n",
    "plt.plot(x, y, 'o', label='Temperatury')\n",
    "plt.xlabel('Data')\n",
    "plt.xticks(rotation=45)\n",
    "plt.ylabel('Temperatura')\n",
    "plt.plot(x, linear_regression.intercept + linear_regression.slope* x, 'r', label='Linia regresji')\n",
    "plt.legend()\n",
    "plt.show()"
   ]
  },
  {
   "cell_type": "code",
   "execution_count": null,
   "id": "f7c4dc87",
   "metadata": {},
   "outputs": [],
   "source": []
  }
 ],
 "metadata": {
  "kernelspec": {
   "display_name": "Python 3 (ipykernel)",
   "language": "python",
   "name": "python3"
  },
  "language_info": {
   "codemirror_mode": {
    "name": "ipython",
    "version": 3
   },
   "file_extension": ".py",
   "mimetype": "text/x-python",
   "name": "python",
   "nbconvert_exporter": "python",
   "pygments_lexer": "ipython3",
   "version": "3.9.12"
  }
 },
 "nbformat": 4,
 "nbformat_minor": 5
}
