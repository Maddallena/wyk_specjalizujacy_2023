{
 "cells": [
  {
   "cell_type": "markdown",
   "id": "7817b5b1",
   "metadata": {},
   "source": [
    "# Irys"
   ]
  },
  {
   "cell_type": "markdown",
   "id": "0a67c0ec",
   "metadata": {},
   "source": [
    "## Ustalanie najlepszej ilości sąsiedztwa"
   ]
  },
  {
   "cell_type": "code",
   "execution_count": 1,
   "id": "08eddab0",
   "metadata": {},
   "outputs": [],
   "source": [
    "# Wczytanie bibliotek\n",
    "from sklearn import datasets\n",
    "from sklearn.neighbors import KNeighborsClassifier\n",
    "from sklearn.preprocessing import StandardScaler\n",
    "from sklearn.pipeline import Pipeline, FeatureUnion\n",
    "from sklearn.model_selection import GridSearchCV"
   ]
  },
  {
   "cell_type": "code",
   "execution_count": 2,
   "id": "3325a3cc",
   "metadata": {},
   "outputs": [],
   "source": [
    "# Wczytanie danych\n",
    "iris = datasets.load_iris()\n",
    "features = iris.data\n",
    "target = iris.target"
   ]
  },
  {
   "cell_type": "code",
   "execution_count": 3,
   "id": "3873b5ee",
   "metadata": {},
   "outputs": [],
   "source": [
    "# Utworzenie egzepmlarza StandardScaler\n",
    "standardizer = StandardScaler()"
   ]
  },
  {
   "cell_type": "code",
   "execution_count": 4,
   "id": "e1349bef",
   "metadata": {},
   "outputs": [],
   "source": [
    "# Standaryzacja cech\n",
    "features_standardized = standardizer.fit_transform(features)"
   ]
  },
  {
   "cell_type": "code",
   "execution_count": 5,
   "id": "1e199ccd",
   "metadata": {},
   "outputs": [],
   "source": [
    "# Utworzenie klasyfikatora KNN\n",
    "knn = KNeighborsClassifier(n_neighbors=5, n_jobs=-1)"
   ]
  },
  {
   "cell_type": "code",
   "execution_count": 6,
   "id": "56953454",
   "metadata": {},
   "outputs": [],
   "source": [
    "# Utworzenie egzemplarza typu Pipeline\n",
    "pipe = Pipeline([(\"standardizer\",standardizer), (\"knn\", knn)])"
   ]
  },
  {
   "cell_type": "code",
   "execution_count": 7,
   "id": "6d3f2481",
   "metadata": {},
   "outputs": [],
   "source": [
    "# Przygotowanie przestrzeni dla prognozowania wartości\n",
    "search_space = [{\"knn__n_neighbors\": [1,2,3,4,5,6,7,8,9,10]}]"
   ]
  },
  {
   "cell_type": "code",
   "execution_count": 8,
   "id": "24716773",
   "metadata": {},
   "outputs": [],
   "source": [
    "# Zdefiniowanie metody przeszukiwania siatki\n",
    "classifier = GridSearchCV(\n",
    "pipe, search_space, cv=5, verbose=0).fit(features_standardized, target)"
   ]
  },
  {
   "cell_type": "code",
   "execution_count": 9,
   "id": "9f9491eb",
   "metadata": {},
   "outputs": [
    {
     "data": {
      "text/plain": [
       "6"
      ]
     },
     "execution_count": 9,
     "metadata": {},
     "output_type": "execute_result"
    }
   ],
   "source": [
    "classifier.best_estimator_.get_params()[\"knn__n_neighbors\"]"
   ]
  },
  {
   "cell_type": "code",
   "execution_count": 10,
   "id": "182871f3",
   "metadata": {},
   "outputs": [],
   "source": [
    "# Utworzenie nowego klasyfikatora KNN z uwzględnieniem najlepszej ilości sąsiadów i metryką euklkidesową\n",
    "knn_new = KNeighborsClassifier(n_neighbors = 6,metric='euclidean', n_jobs = -1).fit(features_standardized,target)"
   ]
  },
  {
   "cell_type": "code",
   "execution_count": 11,
   "id": "72fae1dc",
   "metadata": {},
   "outputs": [],
   "source": [
    "new_observations = [[0.75, 0.75, 0.75, 0.75], [1,2,3,4]]"
   ]
  },
  {
   "cell_type": "code",
   "execution_count": 12,
   "id": "e58de8a0",
   "metadata": {},
   "outputs": [
    {
     "data": {
      "text/plain": [
       "array([1, 2])"
      ]
     },
     "execution_count": 12,
     "metadata": {},
     "output_type": "execute_result"
    }
   ],
   "source": [
    "knn_new.predict(new_observations)"
   ]
  },
  {
   "cell_type": "code",
   "execution_count": 13,
   "id": "8f90e54b",
   "metadata": {},
   "outputs": [],
   "source": [
    "# Utworzenie nowego klasyfikatora KNN z uwzględnieniem innej ilości sąsiadów i metryką euklkidesową\n",
    "knn_new_nn = KNeighborsClassifier(n_neighbors = 10,metric='euclidean', n_jobs = -1).fit(features_standardized,target)"
   ]
  },
  {
   "cell_type": "code",
   "execution_count": 14,
   "id": "3820f6eb",
   "metadata": {},
   "outputs": [
    {
     "data": {
      "text/plain": [
       "array([1, 2])"
      ]
     },
     "execution_count": 14,
     "metadata": {},
     "output_type": "execute_result"
    }
   ],
   "source": [
    "knn_new_nn.predict(new_observations)"
   ]
  },
  {
   "cell_type": "code",
   "execution_count": 15,
   "id": "1b870fd8",
   "metadata": {},
   "outputs": [],
   "source": [
    "# Utworzenie nowego klasyfikatora KNN z uwzględnieniem najlepszej ilości sąsiadów i metryką miejską\n",
    "knn_cityblock = KNeighborsClassifier(n_neighbors = 6,metric='cityblock', n_jobs = -1).fit(features_standardized,target)"
   ]
  },
  {
   "cell_type": "code",
   "execution_count": 16,
   "id": "35223031",
   "metadata": {},
   "outputs": [
    {
     "data": {
      "text/plain": [
       "array([1, 2])"
      ]
     },
     "execution_count": 16,
     "metadata": {},
     "output_type": "execute_result"
    }
   ],
   "source": [
    "knn_cityblock.predict(new_observations)"
   ]
  },
  {
   "cell_type": "code",
   "execution_count": 17,
   "id": "86bc7991",
   "metadata": {},
   "outputs": [],
   "source": [
    "# Utworzenie nowego klasyfikatora KNN z uwzględnieniem najlepszej ilości sąsiadów i metryką miejską\n",
    "knn_cityblock = KNeighborsClassifier(n_neighbors = 10,metric='cityblock', n_jobs = -1).fit(features_standardized,target)"
   ]
  },
  {
   "cell_type": "code",
   "execution_count": 18,
   "id": "2ab41926",
   "metadata": {},
   "outputs": [
    {
     "data": {
      "text/plain": [
       "array([2, 2])"
      ]
     },
     "execution_count": 18,
     "metadata": {},
     "output_type": "execute_result"
    }
   ],
   "source": [
    "knn_cityblock.predict(new_observations)"
   ]
  },
  {
   "cell_type": "markdown",
   "id": "c01ced5f",
   "metadata": {},
   "source": [
    "#### Tutaj widać jak zmiana metryki i ilości sąsiadów wpłynęła na zmianę przewidywanej klasy, było [1,2], po zmianie jest [2,2]"
   ]
  },
  {
   "cell_type": "markdown",
   "id": "4a26b9c4",
   "metadata": {},
   "source": [
    "# Wine"
   ]
  },
  {
   "cell_type": "markdown",
   "id": "a9effc94",
   "metadata": {},
   "source": [
    "## Ustalanie najlepszej ilości sąsiedztwa"
   ]
  },
  {
   "cell_type": "code",
   "execution_count": 19,
   "id": "60e16812",
   "metadata": {},
   "outputs": [],
   "source": [
    "# Wczytanie bibliotek\n",
    "from sklearn import datasets\n",
    "from sklearn.neighbors import KNeighborsClassifier\n",
    "from sklearn.preprocessing import StandardScaler\n",
    "from sklearn.pipeline import Pipeline, FeatureUnion\n",
    "from sklearn.model_selection import GridSearchCV"
   ]
  },
  {
   "cell_type": "code",
   "execution_count": 20,
   "id": "c58b0bb4",
   "metadata": {},
   "outputs": [],
   "source": [
    "# Wczytanie danych\n",
    "wine = datasets.load_wine()\n",
    "features_w = wine.data\n",
    "target_w = wine.target"
   ]
  },
  {
   "cell_type": "code",
   "execution_count": 21,
   "id": "6f42924c",
   "metadata": {},
   "outputs": [],
   "source": [
    "# Utworzenie egzepmlarza StandardScaler\n",
    "standardizer_w = StandardScaler()"
   ]
  },
  {
   "cell_type": "code",
   "execution_count": 22,
   "id": "f5eb28f1",
   "metadata": {},
   "outputs": [],
   "source": [
    "# Standaryzacja cech\n",
    "features_standardized_w = standardizer.fit_transform(features_w)"
   ]
  },
  {
   "cell_type": "code",
   "execution_count": 23,
   "id": "af42d0f6",
   "metadata": {},
   "outputs": [],
   "source": [
    "# Utworzenie klasyfikatora KNN\n",
    "knn_w = KNeighborsClassifier(n_neighbors=5, n_jobs=-1)"
   ]
  },
  {
   "cell_type": "code",
   "execution_count": 24,
   "id": "2853a645",
   "metadata": {},
   "outputs": [],
   "source": [
    "# Utworzenie egzemplarza typu Pipeline\n",
    "pipe_w = Pipeline([(\"standardizer_w\",standardizer_w), (\"knn_w\", knn_w)])"
   ]
  },
  {
   "cell_type": "code",
   "execution_count": 25,
   "id": "3cbe4afa",
   "metadata": {},
   "outputs": [],
   "source": [
    "# Przygotowanie przestrzeni dla prognozowania wartości\n",
    "search_space_w = [{\"knn__n_neighbors\": [1,2,3,4,5,6,7,8,9,10]}]"
   ]
  },
  {
   "cell_type": "code",
   "execution_count": 26,
   "id": "93d615d7",
   "metadata": {},
   "outputs": [],
   "source": [
    "# Zdefiniowanie metody przeszukiwania siatki\n",
    "classifier_w = GridSearchCV(\n",
    "pipe, search_space, cv=5, verbose=0).fit(features_standardized, target)"
   ]
  },
  {
   "cell_type": "code",
   "execution_count": 27,
   "id": "50c793a3",
   "metadata": {},
   "outputs": [
    {
     "data": {
      "text/plain": [
       "6"
      ]
     },
     "execution_count": 27,
     "metadata": {},
     "output_type": "execute_result"
    }
   ],
   "source": [
    "classifier.best_estimator_.get_params()[\"knn__n_neighbors\"]"
   ]
  },
  {
   "cell_type": "code",
   "execution_count": 28,
   "id": "a53f9b2d",
   "metadata": {},
   "outputs": [],
   "source": [
    "# Utworzenie nowego klasyfikatora KNN z uwzględnieniem najlepszej ilości sąsiadów i metryką euklkidesową\n",
    "knn_new_w = KNeighborsClassifier(n_neighbors = 6,metric='euclidean', n_jobs = -1).fit(features_standardized,target)"
   ]
  },
  {
   "cell_type": "code",
   "execution_count": 29,
   "id": "1039c0e9",
   "metadata": {},
   "outputs": [],
   "source": [
    "new_observations_w = [[0.75, 0.75, 0.75, 0.75], [1,2,3,4]]"
   ]
  },
  {
   "cell_type": "code",
   "execution_count": 30,
   "id": "7935e164",
   "metadata": {},
   "outputs": [
    {
     "data": {
      "text/plain": [
       "array([1, 2])"
      ]
     },
     "execution_count": 30,
     "metadata": {},
     "output_type": "execute_result"
    }
   ],
   "source": [
    "knn_new_w.predict(new_observations_w)"
   ]
  },
  {
   "cell_type": "code",
   "execution_count": 31,
   "id": "93c1bab7",
   "metadata": {},
   "outputs": [],
   "source": [
    "# Utworzenie nowego klasyfikatora KNN z uwzględnieniem innej niż najlepszej ilości sąsiadów i metryką euklkidesową\n",
    "knn_new_w_nn = KNeighborsClassifier(n_neighbors = 10,metric='euclidean', n_jobs = -1).fit(features_standardized,target)"
   ]
  },
  {
   "cell_type": "code",
   "execution_count": 32,
   "id": "2610a199",
   "metadata": {},
   "outputs": [
    {
     "data": {
      "text/plain": [
       "array([1, 2])"
      ]
     },
     "execution_count": 32,
     "metadata": {},
     "output_type": "execute_result"
    }
   ],
   "source": [
    "knn_new_w_nn.predict(new_observations_w)"
   ]
  },
  {
   "cell_type": "code",
   "execution_count": 33,
   "id": "73a442b7",
   "metadata": {},
   "outputs": [],
   "source": [
    "# Utworzenie nowego klasyfikatora KNN z uwzględnieniem najlepszej ilości sąsiadów i metryką miejską\n",
    "knn_cityblock_w = KNeighborsClassifier(n_neighbors = 6,metric='cityblock', n_jobs = -1).fit(features_standardized,target)"
   ]
  },
  {
   "cell_type": "code",
   "execution_count": 34,
   "id": "dc7d4291",
   "metadata": {},
   "outputs": [
    {
     "data": {
      "text/plain": [
       "array([1, 2])"
      ]
     },
     "execution_count": 34,
     "metadata": {},
     "output_type": "execute_result"
    }
   ],
   "source": [
    "knn_cityblock_w.predict(new_observations)"
   ]
  },
  {
   "cell_type": "code",
   "execution_count": 35,
   "id": "9577f846",
   "metadata": {},
   "outputs": [],
   "source": [
    "# Utworzenie nowego klasyfikatora KNN z uwzględnieniem innej niż najlepszej ilości sąsiadów i metryką miejską\n",
    "knn_cityblock_w_nn = KNeighborsClassifier(n_neighbors = 10,metric='cityblock', n_jobs = -1).fit(features_standardized,target)"
   ]
  },
  {
   "cell_type": "code",
   "execution_count": 36,
   "id": "dddb9ad7",
   "metadata": {},
   "outputs": [
    {
     "data": {
      "text/plain": [
       "array([2, 2])"
      ]
     },
     "execution_count": 36,
     "metadata": {},
     "output_type": "execute_result"
    }
   ],
   "source": [
    "knn_cityblock_w_nn.predict(new_observations)"
   ]
  },
  {
   "cell_type": "markdown",
   "id": "51bc8811",
   "metadata": {},
   "source": [
    "#### Tutaj również widać zmianę po zmianie ilości sąsiadów i zmianie metryki"
   ]
  }
 ],
 "metadata": {
  "kernelspec": {
   "display_name": "Python 3 (ipykernel)",
   "language": "python",
   "name": "python3"
  },
  "language_info": {
   "codemirror_mode": {
    "name": "ipython",
    "version": 3
   },
   "file_extension": ".py",
   "mimetype": "text/x-python",
   "name": "python",
   "nbconvert_exporter": "python",
   "pygments_lexer": "ipython3",
   "version": "3.9.12"
  }
 },
 "nbformat": 4,
 "nbformat_minor": 5
}
