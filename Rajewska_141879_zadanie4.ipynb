{
 "cells": [
  {
   "cell_type": "markdown",
   "id": "069d27f8",
   "metadata": {},
   "source": [
    "## Wczytanie obrazu"
   ]
  },
  {
   "cell_type": "code",
   "execution_count": 2,
   "id": "0b4f0a59",
   "metadata": {},
   "outputs": [],
   "source": [
    "import cv2\n",
    "import numpy as np\n",
    "import matplotlib.pyplot as plt"
   ]
  },
  {
   "cell_type": "code",
   "execution_count": 2,
   "id": "a708ea45",
   "metadata": {},
   "outputs": [],
   "source": [
    "img = cv2.imread(\"zdjecie1.jpg\")\n",
    "cv2.imshow('Input image ', img)\n",
    "cv2.waitKey()\n",
    "cv2.destroyAllWindows()"
   ]
  },
  {
   "cell_type": "markdown",
   "id": "0de1cfce",
   "metadata": {},
   "source": [
    "## Przekonwerterowanie go na czarno-biały"
   ]
  },
  {
   "cell_type": "code",
   "execution_count": 3,
   "id": "4f14db2b",
   "metadata": {},
   "outputs": [
    {
     "data": {
      "text/plain": [
       "True"
      ]
     },
     "execution_count": 3,
     "metadata": {},
     "output_type": "execute_result"
    }
   ],
   "source": [
    "gray_img = cv2.imread('zdjecie1.jpg', cv2.IMREAD_GRAYSCALE)\n",
    "cv2.imshow('Greyscale', gray_img)\n",
    "cv2.imwrite('zdjecie2.jpg', gray_img)"
   ]
  },
  {
   "cell_type": "markdown",
   "id": "32257dfe",
   "metadata": {},
   "source": [
    "## Rozmycie przez filtr Gaussa"
   ]
  },
  {
   "cell_type": "code",
   "execution_count": 4,
   "id": "d5d578b2",
   "metadata": {},
   "outputs": [
    {
     "data": {
      "text/plain": [
       "True"
      ]
     },
     "execution_count": 4,
     "metadata": {},
     "output_type": "execute_result"
    }
   ],
   "source": [
    "blur_kernel_size = (15,15)\n",
    "gray_img = cv2.imread('zdjecie2.jpg')\n",
    "gray_blur=cv2.GaussianBlur(gray_img, blur_kernel_size,0)\n",
    "cv2.imshow('Greyscale', gray_blur)\n",
    "cv2.imwrite('zdjecie3.jpg', gray_blur)"
   ]
  },
  {
   "cell_type": "markdown",
   "id": "2bcd53f7",
   "metadata": {},
   "source": [
    "## Dobór konturów algorytmem Kenny'ego"
   ]
  },
  {
   "cell_type": "code",
   "execution_count": 3,
   "id": "e08930ed",
   "metadata": {},
   "outputs": [
    {
     "ename": "error",
     "evalue": "OpenCV(4.7.0) D:\\a\\opencv-python\\opencv-python\\opencv\\modules\\highgui\\src\\window.cpp:971: error: (-215:Assertion failed) size.width>0 && size.height>0 in function 'cv::imshow'\n",
     "output_type": "error",
     "traceback": [
      "\u001b[1;31m---------------------------------------------------------------------------\u001b[0m",
      "\u001b[1;31merror\u001b[0m                                     Traceback (most recent call last)",
      "Input \u001b[1;32mIn [3]\u001b[0m, in \u001b[0;36m<cell line: 12>\u001b[1;34m()\u001b[0m\n\u001b[0;32m      9\u001b[0m canny_edges \u001b[38;5;241m=\u001b[39m cv2\u001b[38;5;241m.\u001b[39mCanny(gray_img, canny_low_threshold, canny_high_threshold)\n\u001b[0;32m     11\u001b[0m \u001b[38;5;66;03m# Wyświetlenie obrazu z krawędziami.\u001b[39;00m\n\u001b[1;32m---> 12\u001b[0m \u001b[43mcv2\u001b[49m\u001b[38;5;241;43m.\u001b[39;49m\u001b[43mimshow\u001b[49m\u001b[43m(\u001b[49m\u001b[38;5;124;43m\"\u001b[39;49m\u001b[38;5;124;43mCanny edges\u001b[39;49m\u001b[38;5;124;43m\"\u001b[39;49m\u001b[43m,\u001b[49m\u001b[43m \u001b[49m\u001b[43mcanny_edges\u001b[49m\u001b[43m)\u001b[49m\n\u001b[0;32m     14\u001b[0m \u001b[38;5;66;03m# Zapis obrazu z krawędziami.\u001b[39;00m\n\u001b[0;32m     15\u001b[0m cv2\u001b[38;5;241m.\u001b[39mimwrite(\u001b[38;5;124m\"\u001b[39m\u001b[38;5;124mimages/indeksi4.jpg\u001b[39m\u001b[38;5;124m\"\u001b[39m, canny_edges)\n",
      "\u001b[1;31merror\u001b[0m: OpenCV(4.7.0) D:\\a\\opencv-python\\opencv-python\\opencv\\modules\\highgui\\src\\window.cpp:971: error: (-215:Assertion failed) size.width>0 && size.height>0 in function 'cv::imshow'\n"
     ]
    }
   ],
   "source": [
    "# Wczytanie obrazu w skali szarości.\n",
    "gray_img = cv2.imread(\"images/indeksi3.jpg\", cv2.IMREAD_GRAYSCALE)\n",
    "\n",
    "# Wyznaczenie progów dla algorytmu Canny.\n",
    "canny_low_threshold = 20\n",
    "canny_high_threshold = 100\n",
    "\n",
    "# Wykorzystanie algorytmu Canny do wyodrębniania krawędzi.\n",
    "canny_edges = cv2.Canny(gray_img, canny_low_threshold, canny_high_threshold)\n",
    "\n",
    "# Wyświetlenie obrazu z krawędziami.\n",
    "cv2.imshow(\"Canny edges\", canny_edges)\n",
    "\n",
    "# Zapis obrazu z krawędziami.\n",
    "cv2.imwrite(\"images/indeksi4.jpg\", canny_edges)\n",
    "\n",
    "# Czekanie na naciśnięcie klawisza.\n",
    "# cv2.waitKey(0)\n",
    "\n",
    "# Zamknięcie wszystkich okien.\n",
    "# cv2.destroyAllWindows()\n"
   ]
  },
  {
   "cell_type": "markdown",
   "id": "12060100",
   "metadata": {},
   "source": [
    "# Wczytanie obrazu w skali szarości.\n",
    "gray_img = cv2.imread(\"images/indeksi4.jpg\", cv2.IMREAD_GRAYSCALE)\n",
    "\n",
    "# Wyznaczenie wymiarów obrazu.\n",
    "height, width = gray_img.shape[:2]\n",
    "\n",
    "# Wyznaczenie współrzędnych obszaru do wycięcia.\n",
    "x = 87\n",
    "y = 0\n",
    "w = 275\n",
    "h = 97\n",
    "\n",
    "# Wycięcie obszaru z obrazu.\n",
    "img1 = gray_img[x:x + w, y:y + h]\n",
    "\n",
    "# Wyświetlenie wyciętego obszaru.\n",
    "cv2.imshow(\"Cropped image\", img1)\n",
    "\n",
    "# Zapis wyciętego obszaru.\n",
    "cv2.imwrite(\"images/indeksi5.jpg\", img1)\n",
    "\n",
    "# Czekanie na naciśnięcie klawisza.\n",
    "cv2.waitKey(0)\n",
    "\n",
    "# Zamknięcie wszystkich okien.\n",
    "cv2.destroyAllWindows()\n"
   ]
  },
  {
   "cell_type": "code",
   "execution_count": null,
   "id": "78077cdb",
   "metadata": {},
   "outputs": [],
   "source": []
  }
 ],
 "metadata": {
  "kernelspec": {
   "display_name": "Python 3 (ipykernel)",
   "language": "python",
   "name": "python3"
  },
  "language_info": {
   "codemirror_mode": {
    "name": "ipython",
    "version": 3
   },
   "file_extension": ".py",
   "mimetype": "text/x-python",
   "name": "python",
   "nbconvert_exporter": "python",
   "pygments_lexer": "ipython3",
   "version": "3.9.12"
  }
 },
 "nbformat": 4,
 "nbformat_minor": 5
}
