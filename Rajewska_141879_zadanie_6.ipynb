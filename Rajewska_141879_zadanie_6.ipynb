{
  "cells": [
    {
      "cell_type": "code",
      "execution_count": 13,
      "metadata": {
        "colab": {
          "base_uri": "https://localhost:8080/",
          "height": 338
        },
        "id": "GPef50rw4JhQ",
        "outputId": "a56ef82b-8f54-4987-d21d-902994b37a37"
      },
      "outputs": [
        {
          "output_type": "error",
          "ename": "TypeError",
          "evalue": "'NoneType' object is not subscriptable",
          "traceback": [
            "\u001b[0;31m---------------------------------------------------------------------------\u001b[0m",
            "\u001b[0;31mTypeError\u001b[0m                                 Traceback (most recent call last)",
            "\u001b[0;32m<ipython-input-13-21dc3c638f66>\u001b[0m in \u001b[0;36m<cell line: 2>\u001b[0;34m()\u001b[0m\n\u001b[1;32m      1\u001b[0m \u001b[0;32mfrom\u001b[0m \u001b[0mgoogle\u001b[0m\u001b[0;34m.\u001b[0m\u001b[0mcolab\u001b[0m \u001b[0;32mimport\u001b[0m \u001b[0mfiles\u001b[0m\u001b[0;34m\u001b[0m\u001b[0;34m\u001b[0m\u001b[0m\n\u001b[0;32m----> 2\u001b[0;31m \u001b[0muploaded\u001b[0m \u001b[0;34m=\u001b[0m \u001b[0mfiles\u001b[0m\u001b[0;34m.\u001b[0m\u001b[0mupload\u001b[0m\u001b[0;34m(\u001b[0m\u001b[0;34m)\u001b[0m\u001b[0;34m\u001b[0m\u001b[0;34m\u001b[0m\u001b[0m\n\u001b[0m",
            "\u001b[0;32m/usr/local/lib/python3.10/dist-packages/google/colab/files.py\u001b[0m in \u001b[0;36mupload\u001b[0;34m()\u001b[0m\n\u001b[1;32m     67\u001b[0m   \"\"\"\n\u001b[1;32m     68\u001b[0m \u001b[0;34m\u001b[0m\u001b[0m\n\u001b[0;32m---> 69\u001b[0;31m   \u001b[0muploaded_files\u001b[0m \u001b[0;34m=\u001b[0m \u001b[0m_upload_files\u001b[0m\u001b[0;34m(\u001b[0m\u001b[0mmultiple\u001b[0m\u001b[0;34m=\u001b[0m\u001b[0;32mTrue\u001b[0m\u001b[0;34m)\u001b[0m\u001b[0;34m\u001b[0m\u001b[0;34m\u001b[0m\u001b[0m\n\u001b[0m\u001b[1;32m     70\u001b[0m   \u001b[0;31m# Mapping from original filename to filename as saved locally.\u001b[0m\u001b[0;34m\u001b[0m\u001b[0;34m\u001b[0m\u001b[0m\n\u001b[1;32m     71\u001b[0m   \u001b[0mlocal_filenames\u001b[0m \u001b[0;34m=\u001b[0m \u001b[0mdict\u001b[0m\u001b[0;34m(\u001b[0m\u001b[0;34m)\u001b[0m\u001b[0;34m\u001b[0m\u001b[0;34m\u001b[0m\u001b[0m\n",
            "\u001b[0;32m/usr/local/lib/python3.10/dist-packages/google/colab/files.py\u001b[0m in \u001b[0;36m_upload_files\u001b[0;34m(multiple)\u001b[0m\n\u001b[1;32m    161\u001b[0m   \u001b[0mfiles\u001b[0m \u001b[0;34m=\u001b[0m \u001b[0m_collections\u001b[0m\u001b[0;34m.\u001b[0m\u001b[0mdefaultdict\u001b[0m\u001b[0;34m(\u001b[0m\u001b[0mbytes\u001b[0m\u001b[0;34m)\u001b[0m\u001b[0;34m\u001b[0m\u001b[0;34m\u001b[0m\u001b[0m\n\u001b[1;32m    162\u001b[0m \u001b[0;34m\u001b[0m\u001b[0m\n\u001b[0;32m--> 163\u001b[0;31m   \u001b[0;32mwhile\u001b[0m \u001b[0mresult\u001b[0m\u001b[0;34m[\u001b[0m\u001b[0;34m'action'\u001b[0m\u001b[0;34m]\u001b[0m \u001b[0;34m!=\u001b[0m \u001b[0;34m'complete'\u001b[0m\u001b[0;34m:\u001b[0m\u001b[0;34m\u001b[0m\u001b[0;34m\u001b[0m\u001b[0m\n\u001b[0m\u001b[1;32m    164\u001b[0m     result = _output.eval_js(\n\u001b[1;32m    165\u001b[0m         'google.colab._files._uploadFilesContinue(\"{output_id}\")'.format(\n",
            "\u001b[0;31mTypeError\u001b[0m: 'NoneType' object is not subscriptable"
          ]
        }
      ],
      "source": [
        "from google.colab import files\n",
        "uploaded = files.upload()\n"
      ]
    },
    {
      "cell_type": "code",
      "execution_count": 14,
      "metadata": {
        "id": "X664Jxw97URy"
      },
      "outputs": [],
      "source": [
        "import numpy as np\n",
        "from keras.models import Sequential\n",
        "from keras.layers import Dense, Flatten\n",
        "from keras.utils import to_categorical\n",
        "from PIL import Image"
      ]
    },
    {
      "cell_type": "code",
      "execution_count": 15,
      "metadata": {
        "id": "qOFSfRiz9P8b"
      },
      "outputs": [],
      "source": [
        "# Załaduj pliki png\n",
        "bitmaps = []\n",
        "bitmaps.append(\"zero.bmp\")\n",
        "bitmaps.append(\"jeden.bmp\")\n",
        "bitmaps.append(\"dwa.bmp\")\n",
        "bitmaps.append(\"trzy.bmp\")\n",
        "bitmaps.append(\"cztery.bmp\")\n",
        "bitmaps.append(\"piec.bmp\")\n",
        "bitmaps.append(\"szesc.bmp\")\n",
        "bitmaps.append(\"siedem.bmp\")\n",
        "bitmaps.append(\"osiem.bmp\")\n",
        "bitmaps.append(\"dziewiec.bmp\")"
      ]
    },
    {
      "cell_type": "code",
      "execution_count": 18,
      "metadata": {
        "colab": {
          "base_uri": "https://localhost:8080/"
        },
        "id": "lIlAiNEfFw_S",
        "outputId": "5e1a98eb-23dc-4773-b78c-802c8a52b39f"
      },
      "outputs": [
        {
          "output_type": "stream",
          "name": "stdout",
          "text": [
            "Epoch 1/50\n",
            "1/1 [==============================] - 1s 568ms/step - loss: 2.3022 - accuracy: 0.1000\n",
            "Epoch 2/50\n",
            "1/1 [==============================] - 0s 11ms/step - loss: 2.3005 - accuracy: 0.2000\n",
            "Epoch 3/50\n",
            "1/1 [==============================] - 0s 13ms/step - loss: 2.2993 - accuracy: 0.3000\n",
            "Epoch 4/50\n",
            "1/1 [==============================] - 0s 14ms/step - loss: 2.2984 - accuracy: 0.7000\n",
            "Epoch 5/50\n",
            "1/1 [==============================] - 0s 16ms/step - loss: 2.2975 - accuracy: 0.7000\n",
            "Epoch 6/50\n",
            "1/1 [==============================] - 0s 14ms/step - loss: 2.2966 - accuracy: 0.9000\n",
            "Epoch 7/50\n",
            "1/1 [==============================] - 0s 11ms/step - loss: 2.2956 - accuracy: 0.9000\n",
            "Epoch 8/50\n",
            "1/1 [==============================] - 0s 13ms/step - loss: 2.2946 - accuracy: 0.9000\n",
            "Epoch 9/50\n",
            "1/1 [==============================] - 0s 11ms/step - loss: 2.2937 - accuracy: 1.0000\n",
            "Epoch 10/50\n",
            "1/1 [==============================] - 0s 12ms/step - loss: 2.2927 - accuracy: 1.0000\n",
            "Epoch 11/50\n",
            "1/1 [==============================] - 0s 13ms/step - loss: 2.2917 - accuracy: 1.0000\n",
            "Epoch 12/50\n",
            "1/1 [==============================] - 0s 12ms/step - loss: 2.2907 - accuracy: 1.0000\n",
            "Epoch 13/50\n",
            "1/1 [==============================] - 0s 14ms/step - loss: 2.2896 - accuracy: 1.0000\n",
            "Epoch 14/50\n",
            "1/1 [==============================] - 0s 12ms/step - loss: 2.2886 - accuracy: 1.0000\n",
            "Epoch 15/50\n",
            "1/1 [==============================] - 0s 13ms/step - loss: 2.2875 - accuracy: 1.0000\n",
            "Epoch 16/50\n",
            "1/1 [==============================] - 0s 12ms/step - loss: 2.2864 - accuracy: 1.0000\n",
            "Epoch 17/50\n",
            "1/1 [==============================] - 0s 12ms/step - loss: 2.2853 - accuracy: 1.0000\n",
            "Epoch 18/50\n",
            "1/1 [==============================] - 0s 12ms/step - loss: 2.2842 - accuracy: 1.0000\n",
            "Epoch 19/50\n",
            "1/1 [==============================] - 0s 12ms/step - loss: 2.2831 - accuracy: 1.0000\n",
            "Epoch 20/50\n",
            "1/1 [==============================] - 0s 18ms/step - loss: 2.2819 - accuracy: 1.0000\n",
            "Epoch 21/50\n",
            "1/1 [==============================] - 0s 15ms/step - loss: 2.2807 - accuracy: 1.0000\n",
            "Epoch 22/50\n",
            "1/1 [==============================] - 0s 13ms/step - loss: 2.2795 - accuracy: 1.0000\n",
            "Epoch 23/50\n",
            "1/1 [==============================] - 0s 12ms/step - loss: 2.2783 - accuracy: 1.0000\n",
            "Epoch 24/50\n",
            "1/1 [==============================] - 0s 12ms/step - loss: 2.2771 - accuracy: 1.0000\n",
            "Epoch 25/50\n",
            "1/1 [==============================] - 0s 13ms/step - loss: 2.2758 - accuracy: 1.0000\n",
            "Epoch 26/50\n",
            "1/1 [==============================] - 0s 12ms/step - loss: 2.2745 - accuracy: 1.0000\n",
            "Epoch 27/50\n",
            "1/1 [==============================] - 0s 12ms/step - loss: 2.2732 - accuracy: 1.0000\n",
            "Epoch 28/50\n",
            "1/1 [==============================] - 0s 12ms/step - loss: 2.2719 - accuracy: 1.0000\n",
            "Epoch 29/50\n",
            "1/1 [==============================] - 0s 11ms/step - loss: 2.2705 - accuracy: 1.0000\n",
            "Epoch 30/50\n",
            "1/1 [==============================] - 0s 12ms/step - loss: 2.2691 - accuracy: 1.0000\n",
            "Epoch 31/50\n",
            "1/1 [==============================] - 0s 12ms/step - loss: 2.2677 - accuracy: 1.0000\n",
            "Epoch 32/50\n",
            "1/1 [==============================] - 0s 12ms/step - loss: 2.2663 - accuracy: 1.0000\n",
            "Epoch 33/50\n",
            "1/1 [==============================] - 0s 12ms/step - loss: 2.2648 - accuracy: 1.0000\n",
            "Epoch 34/50\n",
            "1/1 [==============================] - 0s 12ms/step - loss: 2.2633 - accuracy: 1.0000\n",
            "Epoch 35/50\n",
            "1/1 [==============================] - 0s 12ms/step - loss: 2.2618 - accuracy: 1.0000\n",
            "Epoch 36/50\n",
            "1/1 [==============================] - 0s 12ms/step - loss: 2.2603 - accuracy: 1.0000\n",
            "Epoch 37/50\n",
            "1/1 [==============================] - 0s 12ms/step - loss: 2.2587 - accuracy: 1.0000\n",
            "Epoch 38/50\n",
            "1/1 [==============================] - 0s 15ms/step - loss: 2.2571 - accuracy: 1.0000\n",
            "Epoch 39/50\n",
            "1/1 [==============================] - 0s 12ms/step - loss: 2.2555 - accuracy: 1.0000\n",
            "Epoch 40/50\n",
            "1/1 [==============================] - 0s 12ms/step - loss: 2.2539 - accuracy: 1.0000\n",
            "Epoch 41/50\n",
            "1/1 [==============================] - 0s 12ms/step - loss: 2.2522 - accuracy: 1.0000\n",
            "Epoch 42/50\n",
            "1/1 [==============================] - 0s 12ms/step - loss: 2.2505 - accuracy: 1.0000\n",
            "Epoch 43/50\n",
            "1/1 [==============================] - 0s 12ms/step - loss: 2.2488 - accuracy: 1.0000\n",
            "Epoch 44/50\n",
            "1/1 [==============================] - 0s 13ms/step - loss: 2.2470 - accuracy: 1.0000\n",
            "Epoch 45/50\n",
            "1/1 [==============================] - 0s 13ms/step - loss: 2.2452 - accuracy: 1.0000\n",
            "Epoch 46/50\n",
            "1/1 [==============================] - 0s 13ms/step - loss: 2.2434 - accuracy: 1.0000\n",
            "Epoch 47/50\n",
            "1/1 [==============================] - 0s 12ms/step - loss: 2.2416 - accuracy: 1.0000\n",
            "Epoch 48/50\n",
            "1/1 [==============================] - 0s 13ms/step - loss: 2.2397 - accuracy: 1.0000\n",
            "Epoch 49/50\n",
            "1/1 [==============================] - 0s 12ms/step - loss: 2.2378 - accuracy: 1.0000\n",
            "Epoch 50/50\n",
            "1/1 [==============================] - 0s 12ms/step - loss: 2.2358 - accuracy: 1.0000\n"
          ]
        },
        {
          "output_type": "execute_result",
          "data": {
            "text/plain": [
              "<keras.src.callbacks.History at 0x7ac48aecd330>"
            ]
          },
          "metadata": {},
          "execution_count": 18
        }
      ],
      "source": [
        "# Przygotuj dane treningowe\n",
        "images = []\n",
        "for bitmap in bitmaps:\n",
        "    image = np.array(Image.open(bitmap))\n",
        "    images.append(image)\n",
        "\n",
        "# Przekonwertuj obrazy na wektory\n",
        "images = np.array(images)\n",
        "images = images.reshape(images.shape[0], images.shape[1] * images.shape[2])\n",
        "\n",
        "# Znormalizuj dane\n",
        "images = images / 255\n",
        "\n",
        "# Przygotuj etykiety\n",
        "labels = []\n",
        "for i in range(len(bitmaps)):\n",
        "    labels.append(i)\n",
        "\n",
        "# Zkonwertuj etykiety na wektory kategoryczne\n",
        "labels = to_categorical(labels)\n",
        "\n",
        "# Utwórz model\n",
        "model = Sequential()\n",
        "\n",
        "# Dodaj warstwę spłaszczenia\n",
        "model.add(Flatten(input_shape=(images.shape[1],)))\n",
        "\n",
        "# Dodaj warstwę ukrytą z 128 neuronami\n",
        "model.add(Dense(128, activation='relu'))\n",
        "\n",
        "# Dodaj warstwę wyjściową z 10 neuronami, po jednym dla każdej cyfry\n",
        "model.add(Dense(10, activation='softmax'))\n",
        "\n",
        "# Kompiluj model\n",
        "model.compile(optimizer='adam', loss='categorical_crossentropy', metrics=['accuracy'])\n",
        "\n",
        "# Wytrenuj model\n",
        "model.fit(images, labels, epochs=50, batch_size=16)\n"
      ]
    },
    {
      "cell_type": "code",
      "execution_count": 19,
      "metadata": {
        "colab": {
          "base_uri": "https://localhost:8080/"
        },
        "id": "wwqNh99_G9Ov",
        "outputId": "29e58b52-6a69-4426-d6ed-413ee008265d"
      },
      "outputs": [
        {
          "output_type": "stream",
          "name": "stdout",
          "text": [
            "1/1 [==============================] - 0s 194ms/step\n",
            "Bitmap zero.bmp: 0\n",
            "1/1 [==============================] - 0s 22ms/step\n",
            "Bitmap jeden.bmp: 1\n",
            "1/1 [==============================] - 0s 20ms/step\n",
            "Bitmap dwa.bmp: 2\n",
            "1/1 [==============================] - 0s 20ms/step\n",
            "Bitmap trzy.bmp: 3\n",
            "1/1 [==============================] - 0s 22ms/step\n",
            "Bitmap cztery.bmp: 4\n",
            "1/1 [==============================] - 0s 22ms/step\n",
            "Bitmap piec.bmp: 5\n",
            "1/1 [==============================] - 0s 21ms/step\n",
            "Bitmap szesc.bmp: 6\n",
            "1/1 [==============================] - 0s 24ms/step\n",
            "Bitmap siedem.bmp: 7\n",
            "1/1 [==============================] - 0s 21ms/step\n",
            "Bitmap osiem.bmp: 8\n",
            "1/1 [==============================] - 0s 23ms/step\n",
            "Bitmap dziewiec.bmp: 9\n"
          ]
        }
      ],
      "source": [
        "import numpy as np\n",
        "\n",
        "for i, bitmap in enumerate(bitmaps):\n",
        "    # Convert the string to a NumPy array\n",
        "    image = np.array(Image.open(bitmap))\n",
        "\n",
        "    # Reshape the image to a 2D array\n",
        "    image = image.reshape(28, 28)\n",
        "\n",
        "    # Predict the class of the image\n",
        "    prediction = model.predict(image.reshape(1, image.shape[0] * image.shape[1]))\n",
        "\n",
        "    # Get the predicted class\n",
        "    predicted_class = np.argmax(prediction)\n",
        "\n",
        "    # Print the predicted class\n",
        "    print(f\"Bitmap {bitmaps[i]}: {predicted_class}\")"
      ]
    },
    {
      "cell_type": "code",
      "execution_count": null,
      "metadata": {
        "id": "0--kVwMdHNUo"
      },
      "outputs": [],
      "source": []
    }
  ],
  "metadata": {
    "colab": {
      "provenance": []
    },
    "kernelspec": {
      "display_name": "Python 3 (ipykernel)",
      "language": "python",
      "name": "python3"
    },
    "language_info": {
      "codemirror_mode": {
        "name": "ipython",
        "version": 3
      },
      "file_extension": ".py",
      "mimetype": "text/x-python",
      "name": "python",
      "nbconvert_exporter": "python",
      "pygments_lexer": "ipython3",
      "version": "3.9.12"
    }
  },
  "nbformat": 4,
  "nbformat_minor": 0
}